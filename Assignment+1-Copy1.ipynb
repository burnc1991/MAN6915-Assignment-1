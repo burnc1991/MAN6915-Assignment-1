{
 "cells": [
  {
   "cell_type": "code",
   "execution_count": 13,
   "metadata": {
    "collapsed": false
   },
   "outputs": [
    {
     "name": "stdout",
     "output_type": "stream",
     "text": [
      "What's your name? Carey\n",
      "Hello, Carey, how are you?\n"
     ]
    }
   ],
   "source": [
    "#Problem 1\n",
    "#Prompt the user for their name and force the entry to be a string-type varable:\n",
    "Name=str(input(\"What's your name? \"))\n",
    "#Create a string-type variable that concatenates the input with the desired greeting\n",
    "Output= \"Hello, \" + Name + \", how are you?\"\n",
    "#Print the Output string\n",
    "print(Output)"
   ]
  },
  {
   "cell_type": "code",
   "execution_count": 14,
   "metadata": {
    "collapsed": false
   },
   "outputs": [
    {
     "name": "stdout",
     "output_type": "stream",
     "text": [
      "What is youre input string?: Banana\n",
      "Banana Has 6 Characters \n"
     ]
    }
   ],
   "source": [
    "#Problem 2\n",
    "#Prompt the user for the input word and force the variable to a string-type:\n",
    "Input_Word=str(input(\"What is youre input string?: \"))\n",
    "#Print the user-input value as well as the number of characters in that input in a single output:\n",
    "print(Input_Word + \" Has \" + str(len(Input_Word)) + \" Characters \" , sep=\" \")"
   ]
  },
  {
   "cell_type": "code",
   "execution_count": 16,
   "metadata": {
    "collapsed": false
   },
   "outputs": [
    {
     "name": "stdout",
     "output_type": "stream",
     "text": [
      "Enter a Noun: Dog\n",
      "Enter a Verb: Cry\n",
      "Enter an Adjective: Ugly\n",
      "Enter an Adverb: Sadly\n",
      "The Ugly Dog will Cry Sadly\n"
     ]
    }
   ],
   "source": [
    "#Problem 3\n",
    "#Prompt user for input and force the variables to be string-type:\n",
    "Noun=str(input(\"Enter a Noun: \"))\n",
    "Verb=str(input(\"Enter a Verb: \"))\n",
    "Adj=str(input(\"Enter an Adjective: \"))\n",
    "Adv=str(input(\"Enter an Adverb: \"))\n",
    "#Use a single output statement to create the Mad Lib by concatenating the variables with the rest of the string:\n",
    "print(\"The \"+ Adj + \" \" + Noun +\" will \"+ Verb + \" \" + Adv, sep=\" \")"
   ]
  },
  {
   "cell_type": "code",
   "execution_count": 17,
   "metadata": {
    "collapsed": false,
    "scrolled": true
   },
   "outputs": [
    {
     "name": "stdout",
     "output_type": "stream",
     "text": [
      "Enter a number: 6\n",
      "Enter another number: 2\n",
      "6 + 2 = 8\n",
      "6 - 2 = 4\n",
      "6 * 2 = 12\n",
      "6 / 2 = 3\n"
     ]
    }
   ],
   "source": [
    "#Problem 4\n",
    "#Prompt user for numbers:\n",
    "Number_1=input(\"Enter a number: \")\n",
    "Number_2=input(\"Enter another number: \")\n",
    "#Create string-type variables for the formulas in the output statement:\n",
    "Addt=str(Number_1)+\" + \"+str(Number_2)\n",
    "Subt=str(Number_1)+\" - \"+str(Number_2)\n",
    "Multip=str(Number_1)+\" * \"+str(Number_2)\n",
    "Divi=str(Number_1)+\" / \"+str(Number_2)\n",
    "#Create new integer-type variables using user-input and calculate soltions:\n",
    "Add=int(Number_1) + int(Number_2)\n",
    "Sub=int(Number_1)-int(Number_2)\n",
    "Multi=int(Number_1)*int(Number_2)\n",
    "Div=int(Number_1)/int(Number_2)\n",
    "#Print the formula solution variables as concatenated strings with a line break between them:\n",
    "print(str(Addt)+\" = \"+str(Add), str(Subt)+\" = \"+str(Sub), str(Multip)+\" = \"+str(Multi), str(Divi)+\" = \"+ '{0:.0f}'.format(Div), sep=\"\\n\")"
   ]
  },
  {
   "cell_type": "code",
   "execution_count": 29,
   "metadata": {
    "collapsed": false
   },
   "outputs": [
    {
     "name": "stdout",
     "output_type": "stream",
     "text": [
      "What is your current age: 25\n",
      "What age do you want to retire: 55\n",
      "You have 55 years left until you can retire.\n",
      "It's 2017, so you can retire in 2072\n"
     ]
    }
   ],
   "source": [
    "#Problem 5\n",
    "#Prompt the user for current age and retirement age. Force these inputs into integer-type variables:\n",
    "Age=int(input(\"What is your current age: \"))\n",
    "Retirement_Age=int(input(\"What age do you want to retire: \"))\n",
    "#Import the datetime add-on:\n",
    "import datetime\n",
    "#Create a new variable for the current year as an integer using datetime:\n",
    "This_Year=int((datetime.datetime.now().strftime (\"%Y\")))\n",
    "#Create a new variable that will calculate the year of retirement by subtracting the current year from the user-input desired retirement year\n",
    "Year_of_Retirement=int(This_Year)+int(Retirement_Year)\n",
    "#Use the newly created variable to also calculate the number of years until retirement:\n",
    "Years_to_Retire=(Year_of_Retirement-This_Year)\n",
    "#Print your two output statements, converting variables into strings and concatenating them together:\n",
    "print(\"You have \" + str(Years_to_Retire) + \" years left until you can retire.\", sep=\" \")\n",
    "print(\"It's \" + str(This_Year) + \", so you can retire in\", Year_of_Retirement, sep=\" \")"
   ]
  },
  {
   "cell_type": "code",
   "execution_count": 19,
   "metadata": {
    "collapsed": false
   },
   "outputs": [
    {
     "name": "stdout",
     "output_type": "stream",
     "text": [
      "What is the length of the room in feet?: 15\n",
      "What is the width of the room in feet? 20\n",
      "You entered dimensions of 15 feet by 20 feet.\n",
      "The area is 300 square feet\n",
      "27.871 square meters\n"
     ]
    }
   ],
   "source": [
    "#Problem 6\n",
    "#Create two variables that prompt the user for input to get values for the room length and width. Define these variables as integer-type:\n",
    "Room_Length=int(input(\"What is the length of the room in feet?: \"))\n",
    "Room_Width=int(input(\"What is the width of the room in feet? \"))\n",
    "#Calculate the room area in feet by multiplying the two variables together:\n",
    "Room_Area_in_Square_Feet=Room_Length*Room_Width\n",
    "#Store the conversion factor of feet to meters as a variable:\n",
    "Conversion_Factor=float(.09290304)\n",
    "#Use the stored conversion variable to calculate the are of the room meters:\n",
    "Room_Area_in_Square_Meters=Room_Area_in_Square_Feet*Conversion_Factor\n",
    "#Print the input verification statement:\n",
    "print(\"You entered dimensions of\", Room_Length, \"feet by\", Room_Width, \"feet.\")\n",
    "#Print the area of the room in square feet and meters using the formatting command to limit the displayed decimal places:\n",
    "print(\"The area is \" + str(Room_Area_in_Square_Feet) + \" square feet\", \"{0:.3f}\".format(Room_Area_in_Square_Meters) + \" square meters\", sep=\"\\n\")"
   ]
  },
  {
   "cell_type": "code",
   "execution_count": 6,
   "metadata": {
    "collapsed": false
   },
   "outputs": [
    {
     "name": "stdout",
     "output_type": "stream",
     "text": [
      "How many people will be eating pizza?: 8\n",
      "How many pizzas are you splitting?: 2\n",
      "How many slices are there in a pizza?: 8\n",
      "8 people with 2 pizzas\n",
      "Each person gets 2 slices of pizza.\n",
      "There are 0 lefover slice(s) of pizza.\n"
     ]
    }
   ],
   "source": [
    "#Problem 7\n",
    "#Prompt the user for inputs for the number of people, pizzas, and slices per pizza and force the variables to be integer-type:\n",
    "Number_Of_People=int(input(\"How many people will be eating pizza?: \"))\n",
    "Number_Of_Pizzas=int(input(\"How many pizzas are you splitting?: \"))\n",
    "Number_Of_Slices=int(input(\"How many slices are there in a pizza?: \")) \n",
    "#Calculate the number of slices per person and use the floor limit to force the calculation to round down to the nearest whole integer:\n",
    "import math\n",
    "Slices_Per_Person=math.floor((Number_Of_Pizzas*Number_Of_Slices)/Number_Of_People)\n",
    "#Calculate the leftover slices by subtracting the evenly divided slices from the total available slices:\n",
    "Remaining_Slices=(Number_Of_Pizzas*Number_Of_Slices)-(Slices_Per_Person*Number_Of_People)\n",
    "#Confirm the user's input by printing the input variables:\n",
    "print(Number_Of_People, \"people with\", Number_Of_Pizzas, \"pizzas\", sep=\" \")\n",
    "#Print the number of slices each person gets:\n",
    "print(\"Each person gets \" + str(Slices_Per_Person) + \" slices of pizza.\", sep=\" \")\n",
    "#Print the remaining leftover slices\n",
    "print(\"There are \" + str(Remaining_Slices) + \" lefover slice(s) of pizza.\", sep=\" \")"
   ]
  },
  {
   "cell_type": "code",
   "execution_count": null,
   "metadata": {
    "collapsed": false
   },
   "outputs": [
    {
     "name": "stdout",
     "output_type": "stream",
     "text": [
      "What is the length of the room you're painting?: 40\n",
      "What is the width of the room you're painting?: 50\n",
      "You will need to purchase 6 gallon(s) of paint to cover 2000 square feet.\n"
     ]
    }
   ],
   "source": [
    "#Problem 8\n",
    "#Prompt the user for the length and width of a room:\n",
    "Room_Length=int(input(\"What is the length of the room you're painting?: \"))\n",
    "Room_Width=int(input(\"What is the width of the room you're painting?: \"))\n",
    "#Calculate the room area seperately from conversion to use in output statement:\n",
    "Room_Area=Room_Length*Room_Width\n",
    "#Store the conversion from square foot to gallon as a constant:\n",
    "Square_Foot_Per_Gallon=350\n",
    "#Calculate the number of gallons required and use the ceil limit to round up to the nearest whole integer:\n",
    "import math\n",
    "Required_Gallons=math.ceil(Room_Area/Square_Foot_Per_Gallon)\n",
    "#Print the output of your two calculations by converting the variables into strings:\n",
    "print(\"You will need to purchase \" + str(Required_Gallons) + \" gallon(s) of paint to cover \" + str(Room_Area) + \" square feet.\", sep=\" \")"
   ]
  },
  {
   "cell_type": "code",
   "execution_count": 1,
   "metadata": {
    "collapsed": false
   },
   "outputs": [
    {
     "name": "stdout",
     "output_type": "stream",
     "text": [
      "What is the price of the 1st item?: $25\n",
      "Enter the quantity of item 1 purchased: 2\n",
      "What is the price of the 2nd item?: $10\n",
      "Enter the quantity of item 2 purchased: 1\n",
      "What is the price of the 3rd item?: $4\n",
      "Enter the quantity of item 3 purchased: 1\n",
      "Subtotal: $64.00\n",
      "Tax: $3.52\n",
      "Total: $67.52\n"
     ]
    }
   ],
   "source": [
    "#Problem 9\n",
    "#Prompt the user for the price and quantity of three items and set the input to float-type and integer-type variable:\n",
    "Item1_Price=float(input(\"What is the price of the 1st item?: $\"))\n",
    "Item1_Quantity=int(input(\"Enter the quantity of item 1 purchased: \"))\n",
    "Item2_Price=float(input(\"What is the price of the 2nd item?: $\"))\n",
    "Item2_Quantity=int(input(\"Enter the quantity of item 2 purchased: \"))\n",
    "Item3_Price=float(input(\"What is the price of the 3rd item?: $\"))\n",
    "Item3_Quantity=int(input(\"Enter the quantity of item 3 purchased: \"))\n",
    "#Create the tax rate as a constant variable\n",
    "Tax=.055\n",
    "#Create a new variable that calculates the subtotal of the items:\n",
    "Subtotal=Item1_Price*Item1_Quantity+Item2_Price*Item2_Quantity+Item3_Price*Item3_Quantity\n",
    "#Create a new variable that calculates the tax on the items:\n",
    "Total_Tax=Tax*Subtotal\n",
    "#Create a new variable that calculates the total of the items:\n",
    "Total=(Subtotal+Total_Tax)\n",
    "print(\"Subtotal: \" + '${:,.2f}'.format(Subtotal) , \"Tax: \" + '${:,.2f}'.format(Total_Tax) , \"Total: \" + '${:,.2f}'.format(Total) , sep=\"\\n\")"
   ]
  },
  {
   "cell_type": "code",
   "execution_count": 12,
   "metadata": {
    "collapsed": false
   },
   "outputs": [
    {
     "name": "stdout",
     "output_type": "stream",
     "text": [
      "Enter the principal amount: $1500\n",
      "Enter the rate of interest: 4.3\n",
      "Enter the number of years: 4\n",
      "After 4 years at 4.3%, the investment will be worth $1758.00\n"
     ]
    }
   ],
   "source": [
    "#Problem 10\n",
    "#Prompt the user for inputs and force inputs into proper variable type formats:\n",
    "Principal=float(input(\"Enter the principal amount: $\"))\n",
    "Input_Interest_Rate=float(input(\"Enter the rate of interest: \"))\n",
    "Number_of_Years=int(input(\"Enter the number of years: \"))\n",
    "#Convert the user-input interest rate to percentage for calculation:\n",
    "Interest_Rate=float(Input_Interest_Rate/100)\n",
    "#Calculate the simple interest. Use the math add on to force fractions of a penny to be rounded up:\n",
    "import math\n",
    "Simple_Interest=Principal*(1+(Interest_Rate*Number_of_Years))\n",
    "print(\"After \" + str(Number_of_Years) + \" years at \" + str(Input_Interest_Rate) + \"%, the investment will be worth \" + '${:.2f}'.format(Simple_Interest))"
   ]
  }
 ],
 "metadata": {
  "anaconda-cloud": {},
  "kernelspec": {
   "display_name": "Python [conda root]",
   "language": "python",
   "name": "conda-root-py"
  },
  "language_info": {
   "codemirror_mode": {
    "name": "ipython",
    "version": 3
   },
   "file_extension": ".py",
   "mimetype": "text/x-python",
   "name": "python",
   "nbconvert_exporter": "python",
   "pygments_lexer": "ipython3",
   "version": "3.5.2"
  }
 },
 "nbformat": 4,
 "nbformat_minor": 1
}
